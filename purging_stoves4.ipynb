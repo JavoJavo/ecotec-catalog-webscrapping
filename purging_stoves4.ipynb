{
 "cells": [
  {
   "cell_type": "markdown",
   "id": "dc22ab44-ed45-4bb2-bf55-fcc796aacac7",
   "metadata": {},
   "source": [
    "# Purging stoves.csv"
   ]
  },
  {
   "cell_type": "code",
   "execution_count": 1,
   "id": "f04a54f5-3719-41e3-8766-f3dca2076a02",
   "metadata": {},
   "outputs": [],
   "source": [
    "import pandas as pd"
   ]
  },
  {
   "cell_type": "code",
   "execution_count": 8,
   "id": "d1a5a848-fe87-457f-b1ca-33994a61abb6",
   "metadata": {},
   "outputs": [],
   "source": [
    "stoves = pd.read_csv('stoves2.csv',na_values=['Not Available'])"
   ]
  },
  {
   "cell_type": "code",
   "execution_count": 39,
   "id": "1220c493-7ee7-4622-b186-5cbd45c37d7c",
   "metadata": {},
   "outputs": [],
   "source": [
    "stoves.drop(columns=['stove_dimensions.1'],inplace=True)"
   ]
  },
  {
   "cell_type": "code",
   "execution_count": 313,
   "id": "8dbdd40c-bfae-4d2e-b2af-6fbf9033f0c6",
   "metadata": {},
   "outputs": [
    {
     "name": "stdout",
     "output_type": "stream",
     "text": [
      "<class 'pandas.core.frame.DataFrame'>\n",
      "RangeIndex: 474 entries, 0 to 473\n",
      "Data columns (total 63 columns):\n",
      " #   Column                    Non-Null Count  Dtype  \n",
      "---  ------                    --------------  -----  \n",
      " 0   stove_details_name        474 non-null    object \n",
      " 1   details_manu              417 non-null    object \n",
      " 2   details_web               296 non-null    object \n",
      " 3   details_tiers_eff_num     76 non-null     float64\n",
      " 4   details_tiers_safe_num    33 non-null     float64\n",
      " 5   details_tiers_co_num      5 non-null      float64\n",
      " 6   details_tiers_pm_num      5 non-null      float64\n",
      " 7   details_tiers_iwa_ie_num  52 non-null     float64\n",
      " 8   stove_life                284 non-null    float64\n",
      " 9   pot_rec                   355 non-null    object \n",
      " 10  pot_cap                   249 non-null    float64\n",
      " 11  stove_feed                274 non-null    object \n",
      " 12  stove_food_common         264 non-null    object \n",
      " 13  stove_price               267 non-null    object \n",
      " 14  stove_dimensions          306 non-null    object \n",
      " 15  stove_weight              290 non-null    float64\n",
      " 16  stove_assembly_materials  209 non-null    object \n",
      " 17  iso_co_val                5 non-null      float64\n",
      " 18  iso_co_sd                 5 non-null      object \n",
      " 19  iso_co_num                474 non-null    int64  \n",
      " 20  iso_co_date               5 non-null      float64\n",
      " 21  iso_co_fuel               5 non-null      object \n",
      " 22  iso_pm_val                5 non-null      float64\n",
      " 23  iso_pm_sd                 5 non-null      object \n",
      " 24  iso_pm_num                474 non-null    int64  \n",
      " 25  iso_pm_date               5 non-null      float64\n",
      " 26  iso_pm_fuel               5 non-null      object \n",
      " 27  iso_eff_char_val          5 non-null      float64\n",
      " 28  iso_eff_char_sd           5 non-null      object \n",
      " 29  iso_eff_char_num          474 non-null    int64  \n",
      " 30  iso_eff_char_date         5 non-null      float64\n",
      " 31  iso_eff_char_fuel         5 non-null      object \n",
      " 32  iso_safe_fuel             0 non-null      float64\n",
      " 33  iso_dur_val               0 non-null      float64\n",
      " 34  iso_dur_sd                0 non-null      float64\n",
      " 35  iso_dur_num               474 non-null    int64  \n",
      " 36  iso_dur_date              0 non-null      float64\n",
      " 37  iso_dur_fuel              0 non-null      float64\n",
      " 38  iwa_co_val                76 non-null     float64\n",
      " 39  iwa_co_sd                 76 non-null     object \n",
      " 40  iwa_co_num                474 non-null    int64  \n",
      " 41  iwa_co_date               71 non-null     float64\n",
      " 42  hp_co_fuel                76 non-null     object \n",
      " 43  iwa_pm_val                68 non-null     float64\n",
      " 44  iwa_pm_sd                 68 non-null     object \n",
      " 45  iwa_pm_num                474 non-null    int64  \n",
      " 46  iwa_pm_date               63 non-null     float64\n",
      " 47  hp_pm_fuel                68 non-null     object \n",
      " 48  iwa_co_low_val            63 non-null     float64\n",
      " 49  iwa_co_low_sd             63 non-null     object \n",
      " 50  iwa_co_low_num            474 non-null    int64  \n",
      " 51  iwa_co_low_date           58 non-null     float64\n",
      " 52  lp_co_fuel                63 non-null     object \n",
      " 53  iwa_pm_low_val            58 non-null     float64\n",
      " 54  iwa_pm_low_sd             58 non-null     object \n",
      " 55  iwa_pm_low_num            474 non-null    int64  \n",
      " 56  iwa_pm_low_date           53 non-null     float64\n",
      " 57  lp_pm_fuel                58 non-null     object \n",
      " 58  iwa_eff_val               96 non-null     float64\n",
      " 59  iwa_eff_sd                96 non-null     object \n",
      " 60  iwa_eff_num               474 non-null    int64  \n",
      " 61  iwa_eff_date              89 non-null     float64\n",
      " 62  hp_eff_fuel               96 non-null     object \n",
      "dtypes: float64(29), int64(9), object(25)\n",
      "memory usage: 233.4+ KB\n"
     ]
    }
   ],
   "source": [
    "stoves.info()"
   ]
  },
  {
   "cell_type": "code",
   "execution_count": 586,
   "id": "5f6749c8-493c-4013-a866-a15d8a38d361",
   "metadata": {},
   "outputs": [],
   "source": [
    "stoves.to_csv('stoves4.csv',index=False)"
   ]
  },
  {
   "cell_type": "code",
   "execution_count": null,
   "id": "aeea1c5e-b219-4b19-b1a2-3d7c0b19143f",
   "metadata": {},
   "outputs": [],
   "source": []
  },
  {
   "cell_type": "code",
   "execution_count": 199,
   "id": "688e26e9-4564-459b-bd31-933cebe5ef73",
   "metadata": {},
   "outputs": [],
   "source": [
    "i=0"
   ]
  },
  {
   "cell_type": "code",
   "execution_count": 396,
   "id": "dadb1207-f3b4-41b7-b84e-e3a93b65615f",
   "metadata": {},
   "outputs": [],
   "source": [
    "i+=1"
   ]
  },
  {
   "cell_type": "code",
   "execution_count": 587,
   "id": "74047a5f-b3ca-455f-91e1-c871163fb0b0",
   "metadata": {},
   "outputs": [
    {
     "data": {
      "text/plain": [
       "Index(['stove_details_name', 'details_manu', 'details_web',\n",
       "       'details_tiers_eff_num', 'details_tiers_safe_num',\n",
       "       'details_tiers_co_num', 'details_tiers_pm_num',\n",
       "       'details_tiers_iwa_ie_num', 'stove_life', 'pot_rec', 'pot_cap',\n",
       "       'stove_feed', 'stove_food_common', 'stove_price', 'stove_dimensions',\n",
       "       'stove_weight', 'stove_assembly_materials', 'iso_co_val', 'iso_co_sd',\n",
       "       'iso_co_num', 'iso_co_date', 'iso_co_fuel', 'iso_pm_val', 'iso_pm_sd',\n",
       "       'iso_pm_num', 'iso_pm_date', 'iso_pm_fuel', 'iso_eff_char_val',\n",
       "       'iso_eff_char_sd', 'iso_eff_char_num', 'iso_eff_char_date',\n",
       "       'iso_eff_char_fuel', 'iwa_co_val', 'iwa_co_sd', 'iwa_co_num',\n",
       "       'iwa_co_date', 'hp_co_fuel', 'iwa_pm_val', 'iwa_pm_sd', 'iwa_pm_num',\n",
       "       'iwa_pm_date', 'hp_pm_fuel', 'iwa_co_low_val', 'iwa_co_low_sd',\n",
       "       'iwa_co_low_num', 'iwa_co_low_date', 'lp_co_fuel', 'iwa_pm_low_val',\n",
       "       'iwa_pm_low_sd', 'iwa_pm_low_num', 'iwa_pm_low_date', 'lp_pm_fuel',\n",
       "       'iwa_eff_val', 'iwa_eff_sd', 'iwa_eff_num', 'iwa_eff_date',\n",
       "       'hp_eff_fuel', 'stove_feed_min', 'stove_feed_max', 'stove_feed_average',\n",
       "       'stove_price_min', 'stove_price_max', 'stove_price_average',\n",
       "       'iso_co_sd_min', 'iso_co_sd_max', 'iso_co_sd_average', 'iso_pm_sd_min',\n",
       "       'iso_pm_sd_max', 'iso_pm_sd_average', 'iso_eff_char_sd_min',\n",
       "       'iso_eff_char_sd_max', 'iso_eff_char_sd_average', 'iwa_co_sd_min',\n",
       "       'iwa_co_sd_max', 'iwa_co_sd_average', 'iwa_pm_sd_min', 'iwa_pm_sd_max',\n",
       "       'iwa_pm_sd_average', 'iwa_co_low_sd_min', 'iwa_co_low_sd_max',\n",
       "       'iwa_co_low_sd_average', 'iwa_pm_low_sd_min', 'iwa_pm_low_sd_max',\n",
       "       'iwa_pm_low_sd_average', 'iwa_eff_sd_min', 'iwa_eff_sd_max',\n",
       "       'iwa_eff_sd_average'],\n",
       "      dtype='object')"
      ]
     },
     "execution_count": 587,
     "metadata": {},
     "output_type": "execute_result"
    }
   ],
   "source": [
    "stoves.columns"
   ]
  },
  {
   "cell_type": "code",
   "execution_count": 467,
   "id": "7e14e068-a1c1-4b33-90a6-700db632e11c",
   "metadata": {},
   "outputs": [
    {
     "data": {
      "text/plain": [
       "(11, 12, 13, 14, 16, 18, 23, 28, 33, 38, 43, 48, 53)"
      ]
     },
     "execution_count": 467,
     "metadata": {},
     "output_type": "execute_result"
    }
   ],
   "source": [
    "11,12,13,14,16,18,23,28,33,38,43,48,53"
   ]
  },
  {
   "cell_type": "code",
   "execution_count": 575,
   "id": "da31ec0d-f2a5-4e60-898c-b56bc2ad3e0c",
   "metadata": {},
   "outputs": [],
   "source": [
    "column = 53"
   ]
  },
  {
   "cell_type": "code",
   "execution_count": 576,
   "id": "5d44a05e-5afa-4e23-b9db-053ed47fd91b",
   "metadata": {},
   "outputs": [
    {
     "data": {
      "text/plain": [
       "(12, 14, 16)"
      ]
     },
     "execution_count": 576,
     "metadata": {},
     "output_type": "execute_result"
    }
   ],
   "source": [
    "12,14,16"
   ]
  },
  {
   "cell_type": "code",
   "execution_count": 577,
   "id": "9a877242-11c6-4891-8ec4-079c9bb438e8",
   "metadata": {},
   "outputs": [
    {
     "data": {
      "text/plain": [
       "0      46.8 - 46.8\n",
       "1      38.4 - 39.4\n",
       "2      28.5 - 39.4\n",
       "3      29.2 - 32.3\n",
       "4      13.7 - 14.9\n",
       "          ...     \n",
       "469            NaN\n",
       "470            NaN\n",
       "471            NaN\n",
       "472            NaN\n",
       "473            NaN\n",
       "Name: iwa_eff_sd, Length: 474, dtype: object"
      ]
     },
     "execution_count": 577,
     "metadata": {},
     "output_type": "execute_result"
    }
   ],
   "source": [
    "stoves.iloc[:,column]"
   ]
  },
  {
   "cell_type": "code",
   "execution_count": null,
   "id": "00ec0d88-7e93-4852-96d1-65e52e15ad5c",
   "metadata": {},
   "outputs": [],
   "source": []
  },
  {
   "cell_type": "code",
   "execution_count": 578,
   "id": "b68dcf1d-566b-432f-82da-357da8fde4ea",
   "metadata": {},
   "outputs": [
    {
     "data": {
      "text/plain": [
       "53"
      ]
     },
     "execution_count": 578,
     "metadata": {},
     "output_type": "execute_result"
    }
   ],
   "source": [
    "column"
   ]
  },
  {
   "cell_type": "code",
   "execution_count": 579,
   "id": "f6281b3f-5f89-451f-ab79-c7e07f40ba9d",
   "metadata": {},
   "outputs": [
    {
     "data": {
      "text/plain": [
       "'iwa_eff_sd'"
      ]
     },
     "execution_count": 579,
     "metadata": {},
     "output_type": "execute_result"
    }
   ],
   "source": [
    "col_name = stoves.iloc[:,column].name\n",
    "col_name"
   ]
  },
  {
   "cell_type": "code",
   "execution_count": 580,
   "id": "582d813b-28e2-45d2-9f74-42b1364e26a3",
   "metadata": {},
   "outputs": [],
   "source": [
    "stoves[col_name + '_min'] = stoves.iloc[:,column].apply(lambda x: get_min(x))"
   ]
  },
  {
   "cell_type": "code",
   "execution_count": 581,
   "id": "a26ec122-608a-4db4-a423-16ada0890fab",
   "metadata": {},
   "outputs": [],
   "source": [
    "stoves[col_name + '_max'] = stoves.iloc[:,column].apply(lambda x: get_max(x))"
   ]
  },
  {
   "cell_type": "code",
   "execution_count": 582,
   "id": "ccda0e70-735a-4023-a79b-ce6353b573a4",
   "metadata": {},
   "outputs": [],
   "source": [
    "stoves[col_name + '_average'] = stoves[[col_name + '_min',col_name + '_max']].mean(axis=1)"
   ]
  },
  {
   "cell_type": "code",
   "execution_count": 583,
   "id": "2ab48221-45e2-48c7-9f5c-26c38b894fca",
   "metadata": {},
   "outputs": [
    {
     "data": {
      "text/plain": [
       "0      46.8\n",
       "1      38.4\n",
       "2      28.5\n",
       "3      29.2\n",
       "4      13.7\n",
       "       ... \n",
       "469     NaN\n",
       "470     NaN\n",
       "471     NaN\n",
       "472     NaN\n",
       "473     NaN\n",
       "Name: iwa_eff_sd_min, Length: 474, dtype: float64"
      ]
     },
     "execution_count": 583,
     "metadata": {},
     "output_type": "execute_result"
    }
   ],
   "source": [
    "stoves[col_name + '_min']"
   ]
  },
  {
   "cell_type": "code",
   "execution_count": 584,
   "id": "802c2fe3-4cab-42e4-9678-d61cae0824ee",
   "metadata": {},
   "outputs": [
    {
     "data": {
      "text/plain": [
       "0      46.8\n",
       "1      39.4\n",
       "2      39.4\n",
       "3      32.3\n",
       "4      14.9\n",
       "       ... \n",
       "469     NaN\n",
       "470     NaN\n",
       "471     NaN\n",
       "472     NaN\n",
       "473     NaN\n",
       "Name: iwa_eff_sd_max, Length: 474, dtype: float64"
      ]
     },
     "execution_count": 584,
     "metadata": {},
     "output_type": "execute_result"
    }
   ],
   "source": [
    "stoves[stoves.iloc[:,column].name + '_max']"
   ]
  },
  {
   "cell_type": "code",
   "execution_count": 585,
   "id": "68a1e203-c799-4702-9ced-316534b3497b",
   "metadata": {},
   "outputs": [
    {
     "data": {
      "text/plain": [
       "0      46.80\n",
       "1      38.90\n",
       "2      33.95\n",
       "3      30.75\n",
       "4      14.30\n",
       "       ...  \n",
       "469      NaN\n",
       "470      NaN\n",
       "471      NaN\n",
       "472      NaN\n",
       "473      NaN\n",
       "Name: iwa_eff_sd_average, Length: 474, dtype: float64"
      ]
     },
     "execution_count": 585,
     "metadata": {},
     "output_type": "execute_result"
    }
   ],
   "source": [
    "stoves[col_name + '_average']"
   ]
  },
  {
   "cell_type": "code",
   "execution_count": 452,
   "id": "bc8dfb02-d1da-403d-a396-50b3217358ae",
   "metadata": {},
   "outputs": [],
   "source": [
    "def get_min(s):\n",
    "    try:\n",
    "        return float(s.split('-')[0])\n",
    "    except:\n",
    "        return np.nan"
   ]
  },
  {
   "cell_type": "code",
   "execution_count": 443,
   "id": "a35981ee-e452-428a-b130-37d8915acce1",
   "metadata": {},
   "outputs": [],
   "source": [
    "def get_max(s):\n",
    "    try:\n",
    "        return float(s.split('-')[1])\n",
    "    except:\n",
    "        return np.nan"
   ]
  },
  {
   "cell_type": "code",
   "execution_count": 466,
   "id": "a43b1be8-b899-4f8f-8738-d5caa9b1b88a",
   "metadata": {},
   "outputs": [
    {
     "data": {
      "text/plain": [
       "Index(['stove_details_name', 'details_manu', 'details_web',\n",
       "       'details_tiers_eff_num', 'details_tiers_safe_num',\n",
       "       'details_tiers_co_num', 'details_tiers_pm_num',\n",
       "       'details_tiers_iwa_ie_num', 'stove_life', 'pot_rec', 'pot_cap',\n",
       "       'stove_feed', 'stove_food_common', 'stove_price', 'stove_dimensions',\n",
       "       'stove_weight', 'stove_assembly_materials', 'iso_co_val', 'iso_co_sd',\n",
       "       'iso_co_num', 'iso_co_date', 'iso_co_fuel', 'iso_pm_val', 'iso_pm_sd',\n",
       "       'iso_pm_num', 'iso_pm_date', 'iso_pm_fuel', 'iso_eff_char_val',\n",
       "       'iso_eff_char_sd', 'iso_eff_char_num', 'iso_eff_char_date',\n",
       "       'iso_eff_char_fuel', 'iwa_co_val', 'iwa_co_sd', 'iwa_co_num',\n",
       "       'iwa_co_date', 'hp_co_fuel', 'iwa_pm_val', 'iwa_pm_sd', 'iwa_pm_num',\n",
       "       'iwa_pm_date', 'hp_pm_fuel', 'iwa_co_low_val', 'iwa_co_low_sd',\n",
       "       'iwa_co_low_num', 'iwa_co_low_date', 'lp_co_fuel', 'iwa_pm_low_val',\n",
       "       'iwa_pm_low_sd', 'iwa_pm_low_num', 'iwa_pm_low_date', 'lp_pm_fuel',\n",
       "       'iwa_eff_val', 'iwa_eff_sd', 'iwa_eff_num', 'iwa_eff_date',\n",
       "       'hp_eff_fuel', 'stove_feed_min', 'stove_feed_max',\n",
       "       'stove_feed_average'],\n",
       "      dtype='object')"
      ]
     },
     "execution_count": 466,
     "metadata": {},
     "output_type": "execute_result"
    }
   ],
   "source": [
    "stoves.columns"
   ]
  },
  {
   "cell_type": "code",
   "execution_count": 442,
   "id": "512bb094-cff0-4ca0-9d4e-46c8850ada3e",
   "metadata": {},
   "outputs": [
    {
     "data": {
      "text/plain": [
       "2323.0"
      ]
     },
     "execution_count": 442,
     "metadata": {},
     "output_type": "execute_result"
    }
   ],
   "source": [
    "get_min('2323.0-123.2')"
   ]
  },
  {
   "cell_type": "code",
   "execution_count": 444,
   "id": "f295e6e4-f50e-4b96-9fe0-3b65f23e4a36",
   "metadata": {},
   "outputs": [
    {
     "data": {
      "text/plain": [
       "123.2"
      ]
     },
     "execution_count": 444,
     "metadata": {},
     "output_type": "execute_result"
    }
   ],
   "source": [
    "get_max('2323.0-123.2')"
   ]
  },
  {
   "cell_type": "code",
   "execution_count": 425,
   "id": "a5f29243-3eec-4069-892d-3b815b4c9440",
   "metadata": {},
   "outputs": [
    {
     "data": {
      "text/plain": [
       "Index(['stove_feed', 'stove_food_common', 'stove_price', 'stove_dimensions',\n",
       "       'stove_assembly_materials', 'iso_co_sd', 'iso_pm_sd', 'iso_eff_char_sd',\n",
       "       'iwa_co_sd', 'iwa_pm_sd', 'iwa_co_low_sd', 'iwa_pm_low_sd',\n",
       "       'iwa_eff_sd'],\n",
       "      dtype='object')"
      ]
     },
     "execution_count": 425,
     "metadata": {},
     "output_type": "execute_result"
    }
   ],
   "source": [
    "stoves.columns[[11,12,13,14,16,18,23,28,33,38,43,48,53]]"
   ]
  },
  {
   "cell_type": "code",
   "execution_count": 427,
   "id": "3c64afec-e67f-4160-b88a-34e279490748",
   "metadata": {},
   "outputs": [
    {
     "data": {
      "text/plain": [
       "0       4.15\n",
       "1       4.60\n",
       "2       5.20\n",
       "3        NaN\n",
       "4        NaN\n",
       "       ...  \n",
       "469    48.00\n",
       "470    68.00\n",
       "471     0.60\n",
       "472     0.80\n",
       "473     1.00\n",
       "Name: stove_weight, Length: 474, dtype: float64"
      ]
     },
     "execution_count": 427,
     "metadata": {},
     "output_type": "execute_result"
    }
   ],
   "source": [
    "stoves.drop(stoves.columns[[11,12,13,14,16,18,23,28,33,38,43,48,53]],axis=1).iloc[:,11]"
   ]
  },
  {
   "cell_type": "markdown",
   "id": "b26c4c7e-c5b5-402f-b1ad-2fb6bfd6e986",
   "metadata": {},
   "source": [
    "quedan pendientes columnas: 11,12,13,14,16,18,23,28,33,38,43,48,53"
   ]
  },
  {
   "cell_type": "code",
   "execution_count": 192,
   "id": "b8fe17a2-9814-46af-a647-1566e111088d",
   "metadata": {},
   "outputs": [],
   "source": [
    "stoves.iloc[:,i] = stoves.iloc[:,i].apply(lambda x: quitar_inicio__(x))"
   ]
  },
  {
   "cell_type": "code",
   "execution_count": 341,
   "id": "8de219ef-7c60-41f6-a598-dac41e3aa8e9",
   "metadata": {},
   "outputs": [
    {
     "data": {
      "text/plain": [
       "NaN           398\n",
       "2.2 - 2.2       3\n",
       "06-jun          3\n",
       "13 - 13         2\n",
       "0.8 - 0.8       2\n",
       "             ... \n",
       "2.3 - 4.1       1\n",
       "1 - 2.7         1\n",
       "5.2 - 8.2       1\n",
       "5.2 - 10.1      1\n",
       "9.4 - 9.4       1\n",
       "Name: iwa_co_sd, Length: 66, dtype: int64"
      ]
     },
     "execution_count": 341,
     "metadata": {},
     "output_type": "execute_result"
    }
   ],
   "source": [
    "stoves.iloc[:,i].value_counts(dropna=False)"
   ]
  },
  {
   "cell_type": "code",
   "execution_count": 52,
   "id": "070f6052-910d-418f-b919-eeb81d1d0da6",
   "metadata": {},
   "outputs": [],
   "source": [
    "def quitar_inicio__(s):\n",
    "    if isinstance(s,str):\n",
    "        try:\n",
    "            return float(s[5:])\n",
    "        except:\n",
    "            return np.nan\n",
    "    return s"
   ]
  },
  {
   "cell_type": "code",
   "execution_count": 336,
   "id": "1dfc1f97-6470-4221-b0c1-c9735f6afc76",
   "metadata": {},
   "outputs": [],
   "source": [
    "stoves.drop(columns=['iso_dur_fuel'],inplace=True)"
   ]
  },
  {
   "cell_type": "code",
   "execution_count": 53,
   "id": "450b29d6-6dc2-483f-973e-0e540b269bae",
   "metadata": {},
   "outputs": [],
   "source": [
    "import numpy as np\n",
    "def quitar__(s):\n",
    "    if isinstance(s,str):\n",
    "        try:\n",
    "            return float(s[:-2])\n",
    "        except:\n",
    "            return np.nan\n",
    "    return s"
   ]
  },
  {
   "cell_type": "code",
   "execution_count": 33,
   "id": "93582db7-53c5-4370-ad2b-721acb1727c8",
   "metadata": {},
   "outputs": [
    {
     "name": "stdout",
     "output_type": "stream",
     "text": [
      "<class 'pandas.core.frame.DataFrame'>\n",
      "RangeIndex: 474 entries, 0 to 473\n",
      "Data columns (total 74 columns):\n",
      " #   Column                    Non-Null Count  Dtype  \n",
      "---  ------                    --------------  -----  \n",
      " 0   stove_details_name        474 non-null    object \n",
      " 1   details_manu              417 non-null    object \n",
      " 2   details_web               296 non-null    object \n",
      " 3   details_tiers_eff_num     76 non-null     object \n",
      " 4   details_tiers_safe_num    33 non-null     object \n",
      " 5   details_tiers_co_num      5 non-null      object \n",
      " 6   details_tiers_pm_num      5 non-null      object \n",
      " 7   details_tiers_dur_num     0 non-null      float64\n",
      " 8   details_tiers_iwa_ie_num  52 non-null     object \n",
      " 9   stove_life                284 non-null    float64\n",
      " 10  pot_rec                   355 non-null    object \n",
      " 11  pot_cap                   249 non-null    float64\n",
      " 12  stove_feed                274 non-null    object \n",
      " 13  stove_food_common         264 non-null    object \n",
      " 14  stove_price               267 non-null    object \n",
      " 15  stove_dimensions          306 non-null    object \n",
      " 16  stove_weight              290 non-null    float64\n",
      " 17  stove_dimensions.1        306 non-null    object \n",
      " 18  stove_assembly_materials  209 non-null    object \n",
      " 19  iso_co_val                5 non-null      float64\n",
      " 20  iso_co_sd                 5 non-null      object \n",
      " 21  iso_co_num                474 non-null    int64  \n",
      " 22  iso_co_date               5 non-null      float64\n",
      " 23  iso_co_fuel               5 non-null      object \n",
      " 24  iso_pm_val                5 non-null      float64\n",
      " 25  iso_pm_sd                 5 non-null      object \n",
      " 26  iso_pm_num                474 non-null    int64  \n",
      " 27  iso_pm_date               5 non-null      float64\n",
      " 28  iso_pm_fuel               5 non-null      object \n",
      " 29  iso_eff_char_val          5 non-null      float64\n",
      " 30  iso_eff_char_sd           5 non-null      object \n",
      " 31  iso_eff_char_num          474 non-null    int64  \n",
      " 32  iso_eff_char_date         5 non-null      float64\n",
      " 33  iso_eff_char_fuel         5 non-null      object \n",
      " 34  iso_eff_val               0 non-null      float64\n",
      " 35  iso_eff_sd                0 non-null      float64\n",
      " 36  iso_eff_num               474 non-null    int64  \n",
      " 37  iso_eff_date              0 non-null      float64\n",
      " 38  iso_eff_fuel              0 non-null      float64\n",
      " 39  iso_safe_val              0 non-null      float64\n",
      " 40  iso_safe_sd               0 non-null      float64\n",
      " 41  iso_safe_num              474 non-null    int64  \n",
      " 42  iso_safe_date             0 non-null      float64\n",
      " 43  iso_safe_fuel             0 non-null      float64\n",
      " 44  iso_dur_val               0 non-null      float64\n",
      " 45  iso_dur_sd                0 non-null      float64\n",
      " 46  iso_dur_num               474 non-null    int64  \n",
      " 47  iso_dur_date              0 non-null      float64\n",
      " 48  iso_dur_fuel              0 non-null      float64\n",
      " 49  iwa_co_val                76 non-null     float64\n",
      " 50  iwa_co_sd                 76 non-null     object \n",
      " 51  iwa_co_num                474 non-null    int64  \n",
      " 52  iwa_co_date               71 non-null     float64\n",
      " 53  hp_co_fuel                76 non-null     object \n",
      " 54  iwa_pm_val                68 non-null     float64\n",
      " 55  iwa_pm_sd                 68 non-null     object \n",
      " 56  iwa_pm_num                474 non-null    int64  \n",
      " 57  iwa_pm_date               63 non-null     float64\n",
      " 58  hp_pm_fuel                68 non-null     object \n",
      " 59  iwa_co_low_val            63 non-null     float64\n",
      " 60  iwa_co_low_sd             63 non-null     object \n",
      " 61  iwa_co_low_num            474 non-null    int64  \n",
      " 62  iwa_co_low_date           58 non-null     float64\n",
      " 63  lp_co_fuel                63 non-null     object \n",
      " 64  iwa_pm_low_val            58 non-null     float64\n",
      " 65  iwa_pm_low_sd             58 non-null     object \n",
      " 66  iwa_pm_low_num            474 non-null    int64  \n",
      " 67  iwa_pm_low_date           53 non-null     float64\n",
      " 68  lp_pm_fuel                58 non-null     object \n",
      " 69  iwa_eff_val               96 non-null     float64\n",
      " 70  iwa_eff_sd                96 non-null     object \n",
      " 71  iwa_eff_num               474 non-null    int64  \n",
      " 72  iwa_eff_date              89 non-null     float64\n",
      " 73  hp_eff_fuel               96 non-null     object \n",
      "dtypes: float64(32), int64(11), object(31)\n",
      "memory usage: 274.2+ KB\n"
     ]
    }
   ],
   "source": [
    "stoves.info()"
   ]
  },
  {
   "cell_type": "code",
   "execution_count": 36,
   "id": "903ae68d-11c2-4951-89f6-6c667f60048c",
   "metadata": {},
   "outputs": [
    {
     "data": {
      "text/plain": [
       "array([False, False, False, False, False, False, False, False, False,\n",
       "       False, False, False, False, False, False, False, False, False,\n",
       "       False, False, False, False, False, False, False, False, False,\n",
       "       False, False, False, False, False, False, False, False, False,\n",
       "       False, False, False, False, False, False, False, False, False,\n",
       "       False, False, False, False, False, False, False, False, False,\n",
       "       False, False, False, False, False, False, False, False, False,\n",
       "       False, False, False, False, False, False, False, False, False,\n",
       "       False, False])"
      ]
     },
     "execution_count": 36,
     "metadata": {},
     "output_type": "execute_result"
    }
   ],
   "source": [
    "stoves.columns.duplicated()"
   ]
  },
  {
   "cell_type": "code",
   "execution_count": 38,
   "id": "1e6c4948-4ad1-43de-9993-32701d5d3719",
   "metadata": {},
   "outputs": [
    {
     "name": "stdout",
     "output_type": "stream",
     "text": [
      "<class 'pandas.core.frame.DataFrame'>\n",
      "RangeIndex: 474 entries, 0 to 473\n",
      "Data columns (total 53 columns):\n",
      " #   Column                    Non-Null Count  Dtype \n",
      "---  ------                    --------------  ----- \n",
      " 0   stove_details_name        474 non-null    object\n",
      " 1   details_manu              417 non-null    object\n",
      " 2   details_web               296 non-null    object\n",
      " 3   details_tiers_eff_num     76 non-null     object\n",
      " 4   details_tiers_safe_num    33 non-null     object\n",
      " 5   details_tiers_co_num      5 non-null      object\n",
      " 6   details_tiers_pm_num      5 non-null      object\n",
      " 7   details_tiers_dur_num     0 non-null      object\n",
      " 8   details_tiers_iwa_ie_num  52 non-null     object\n",
      " 9   stove_life                284 non-null    object\n",
      " 10  pot_rec                   355 non-null    object\n",
      " 11  pot_cap                   249 non-null    object\n",
      " 12  stove_feed                274 non-null    object\n",
      " 13  stove_food_common         264 non-null    object\n",
      " 14  stove_price               267 non-null    object\n",
      " 15  stove_dimensions          306 non-null    object\n",
      " 16  stove_weight              290 non-null    object\n",
      " 17  stove_assembly_materials  209 non-null    object\n",
      " 18  iso_co_val                5 non-null      object\n",
      " 19  iso_co_sd                 5 non-null      object\n",
      " 20  iso_co_num                474 non-null    object\n",
      " 21  iso_co_date               5 non-null      object\n",
      " 22  iso_co_fuel               5 non-null      object\n",
      " 23  iso_pm_val                5 non-null      object\n",
      " 24  iso_pm_sd                 5 non-null      object\n",
      " 25  iso_eff_char_val          5 non-null      object\n",
      " 26  iso_eff_char_sd           5 non-null      object\n",
      " 27  iso_eff_num               474 non-null    object\n",
      " 28  iwa_co_val                76 non-null     object\n",
      " 29  iwa_co_sd                 76 non-null     object\n",
      " 30  iwa_co_num                474 non-null    object\n",
      " 31  iwa_co_date               71 non-null     object\n",
      " 32  hp_co_fuel                76 non-null     object\n",
      " 33  iwa_pm_val                68 non-null     object\n",
      " 34  iwa_pm_sd                 68 non-null     object\n",
      " 35  iwa_pm_num                474 non-null    object\n",
      " 36  iwa_pm_date               63 non-null     object\n",
      " 37  hp_pm_fuel                68 non-null     object\n",
      " 38  iwa_co_low_val            63 non-null     object\n",
      " 39  iwa_co_low_sd             63 non-null     object\n",
      " 40  iwa_co_low_num            474 non-null    object\n",
      " 41  iwa_co_low_date           58 non-null     object\n",
      " 42  lp_co_fuel                63 non-null     object\n",
      " 43  iwa_pm_low_val            58 non-null     object\n",
      " 44  iwa_pm_low_sd             58 non-null     object\n",
      " 45  iwa_pm_low_num            474 non-null    object\n",
      " 46  iwa_pm_low_date           53 non-null     object\n",
      " 47  lp_pm_fuel                58 non-null     object\n",
      " 48  iwa_eff_val               96 non-null     object\n",
      " 49  iwa_eff_sd                96 non-null     object\n",
      " 50  iwa_eff_num               474 non-null    object\n",
      " 51  iwa_eff_date              89 non-null     object\n",
      " 52  hp_eff_fuel               96 non-null     object\n",
      "dtypes: object(53)\n",
      "memory usage: 196.4+ KB\n"
     ]
    }
   ],
   "source": [
    "df2.info()"
   ]
  },
  {
   "cell_type": "code",
   "execution_count": 34,
   "id": "629b2623-1f4c-4139-9d21-8a87b615a5de",
   "metadata": {},
   "outputs": [
    {
     "name": "stdout",
     "output_type": "stream",
     "text": [
      "                  stove_details_name                  details_manu  \\\n",
      "0                          Mimi Moto        Mimi Moto Holding B.V.   \n",
      "1                     Philips HD4012                       Philips   \n",
      "2                   Envirofit G-3300       Envirofit International   \n",
      "3                Kenyan Ceramic Jiko                    Sanivation   \n",
      "4                   Three Stone Fire                           NaN   \n",
      "..                               ...                           ...   \n",
      "469        Mashesha Fire Pit / Braai  Sustainability Professionals   \n",
      "470  Size 30 Mashesha Catering Stove  Sustainability Professionals   \n",
      "471            Haines Solar Cooker 1          Haines Solar Cookers   \n",
      "472                         Haines 2          Haines Solar Cookers   \n",
      "473          All Season Solar Cooker                    SolCookLLC   \n",
      "\n",
      "                                  details_web details_tiers_eff_num  \\\n",
      "0                     http://www.mimimoto.nl/                Tier 4   \n",
      "1                     http://www.philips.com/                Tier 3   \n",
      "2                   http://www.envirofit.org/                Tier 3   \n",
      "3                                         NaN                Tier 3   \n",
      "4                                         NaN                Tier 1   \n",
      "..                                        ...                   ...   \n",
      "469                                       NaN                   NaN   \n",
      "470                                       NaN                   NaN   \n",
      "471  http://https//www.hainessolarcookers.com                   NaN   \n",
      "472  http://https//www.hainessolarcookers.com                   NaN   \n",
      "473      http://www.allseasonsolarcooker.com/                   NaN   \n",
      "\n",
      "    details_tiers_safe_num details_tiers_co_num details_tiers_pm_num  \\\n",
      "0                      NaN               Tier 5               Tier 4   \n",
      "1                      NaN               Tier 4               Tier 3   \n",
      "2                      NaN               Tier 3               Tier 1   \n",
      "3                      NaN               Tier 0               Tier 3   \n",
      "4                      NaN               Tier 1               Tier 0   \n",
      "..                     ...                  ...                  ...   \n",
      "469                    NaN                  NaN                  NaN   \n",
      "470                    NaN                  NaN                  NaN   \n",
      "471                    NaN                  NaN                  NaN   \n",
      "472                    NaN                  NaN                  NaN   \n",
      "473                    NaN                  NaN                  NaN   \n",
      "\n",
      "    details_tiers_dur_num details_tiers_iwa_ie_num stove_life  ...  \\\n",
      "0                     NaN                      NaN       10.0  ...   \n",
      "1                     NaN                      NaN        NaN  ...   \n",
      "2                     NaN                      NaN        NaN  ...   \n",
      "3                     NaN                      NaN        NaN  ...   \n",
      "4                     NaN                      NaN        NaN  ...   \n",
      "..                    ...                      ...        ...  ...   \n",
      "469                   NaN                      NaN        2.0  ...   \n",
      "470                   NaN                      NaN        4.0  ...   \n",
      "471                   NaN                      NaN        5.0  ...   \n",
      "472                   NaN                      NaN        5.0  ...   \n",
      "473                   NaN                      NaN       10.0  ...   \n",
      "\n",
      "    iwa_pm_low_val iwa_pm_low_sd iwa_pm_low_num iwa_pm_low_date lp_pm_fuel  \\\n",
      "0              0.1     0.1 - 0.1              1          2015.0    Pellets   \n",
      "1              0.6     0.6 - 0.7              2          2012.0       Wood   \n",
      "2              1.7     0.4 - 2.5              4          2012.0       Wood   \n",
      "3              0.6     0.4 - 0.7              2          2012.0   Charcoal   \n",
      "4             17.1    8.6 - 28.7              3          2012.0       Wood   \n",
      "..             ...           ...            ...             ...        ...   \n",
      "469            NaN           NaN              0             NaN        NaN   \n",
      "470            NaN           NaN              0             NaN        NaN   \n",
      "471            NaN           NaN              0             NaN        NaN   \n",
      "472            NaN           NaN              0             NaN        NaN   \n",
      "473            NaN           NaN              0             NaN        NaN   \n",
      "\n",
      "    iwa_eff_val   iwa_eff_sd iwa_eff_num iwa_eff_date hp_eff_fuel  \n",
      "0          46.8  46.8 - 46.8           1       2015.0     Pellets  \n",
      "1          38.9  38.4 - 39.4           2       2012.0        Wood  \n",
      "2          35.6  28.5 - 39.4           5          NaN        Wood  \n",
      "3          30.8  29.2 - 32.3           2       2012.0    Charcoal  \n",
      "4          14.1  13.7 - 14.9           3       2012.0        Wood  \n",
      "..          ...          ...         ...          ...         ...  \n",
      "469         NaN          NaN           0          NaN         NaN  \n",
      "470         NaN          NaN           0          NaN         NaN  \n",
      "471         NaN          NaN           0          NaN         NaN  \n",
      "472         NaN          NaN           0          NaN         NaN  \n",
      "473         NaN          NaN           0          NaN         NaN  \n",
      "\n",
      "[474 rows x 53 columns]\n"
     ]
    }
   ],
   "source": [
    "df2 = stoves.T.drop_duplicates().T\n",
    "print(df2)"
   ]
  },
  {
   "cell_type": "code",
   "execution_count": 35,
   "id": "e8bfb7ae-9c6a-47cc-a5e6-0806b13aa39d",
   "metadata": {},
   "outputs": [
    {
     "name": "stdout",
     "output_type": "stream",
     "text": [
      "<class 'pandas.core.frame.DataFrame'>\n",
      "RangeIndex: 474 entries, 0 to 473\n",
      "Data columns (total 53 columns):\n",
      " #   Column                    Non-Null Count  Dtype \n",
      "---  ------                    --------------  ----- \n",
      " 0   stove_details_name        474 non-null    object\n",
      " 1   details_manu              417 non-null    object\n",
      " 2   details_web               296 non-null    object\n",
      " 3   details_tiers_eff_num     76 non-null     object\n",
      " 4   details_tiers_safe_num    33 non-null     object\n",
      " 5   details_tiers_co_num      5 non-null      object\n",
      " 6   details_tiers_pm_num      5 non-null      object\n",
      " 7   details_tiers_dur_num     0 non-null      object\n",
      " 8   details_tiers_iwa_ie_num  52 non-null     object\n",
      " 9   stove_life                284 non-null    object\n",
      " 10  pot_rec                   355 non-null    object\n",
      " 11  pot_cap                   249 non-null    object\n",
      " 12  stove_feed                274 non-null    object\n",
      " 13  stove_food_common         264 non-null    object\n",
      " 14  stove_price               267 non-null    object\n",
      " 15  stove_dimensions          306 non-null    object\n",
      " 16  stove_weight              290 non-null    object\n",
      " 17  stove_assembly_materials  209 non-null    object\n",
      " 18  iso_co_val                5 non-null      object\n",
      " 19  iso_co_sd                 5 non-null      object\n",
      " 20  iso_co_num                474 non-null    object\n",
      " 21  iso_co_date               5 non-null      object\n",
      " 22  iso_co_fuel               5 non-null      object\n",
      " 23  iso_pm_val                5 non-null      object\n",
      " 24  iso_pm_sd                 5 non-null      object\n",
      " 25  iso_eff_char_val          5 non-null      object\n",
      " 26  iso_eff_char_sd           5 non-null      object\n",
      " 27  iso_eff_num               474 non-null    object\n",
      " 28  iwa_co_val                76 non-null     object\n",
      " 29  iwa_co_sd                 76 non-null     object\n",
      " 30  iwa_co_num                474 non-null    object\n",
      " 31  iwa_co_date               71 non-null     object\n",
      " 32  hp_co_fuel                76 non-null     object\n",
      " 33  iwa_pm_val                68 non-null     object\n",
      " 34  iwa_pm_sd                 68 non-null     object\n",
      " 35  iwa_pm_num                474 non-null    object\n",
      " 36  iwa_pm_date               63 non-null     object\n",
      " 37  hp_pm_fuel                68 non-null     object\n",
      " 38  iwa_co_low_val            63 non-null     object\n",
      " 39  iwa_co_low_sd             63 non-null     object\n",
      " 40  iwa_co_low_num            474 non-null    object\n",
      " 41  iwa_co_low_date           58 non-null     object\n",
      " 42  lp_co_fuel                63 non-null     object\n",
      " 43  iwa_pm_low_val            58 non-null     object\n",
      " 44  iwa_pm_low_sd             58 non-null     object\n",
      " 45  iwa_pm_low_num            474 non-null    object\n",
      " 46  iwa_pm_low_date           53 non-null     object\n",
      " 47  lp_pm_fuel                58 non-null     object\n",
      " 48  iwa_eff_val               96 non-null     object\n",
      " 49  iwa_eff_sd                96 non-null     object\n",
      " 50  iwa_eff_num               474 non-null    object\n",
      " 51  iwa_eff_date              89 non-null     object\n",
      " 52  hp_eff_fuel               96 non-null     object\n",
      "dtypes: object(53)\n",
      "memory usage: 196.4+ KB\n"
     ]
    }
   ],
   "source": [
    "df2.info()"
   ]
  },
  {
   "cell_type": "code",
   "execution_count": 16,
   "id": "688649a1-98c9-4594-a6a6-a80d1917c6d8",
   "metadata": {},
   "outputs": [
    {
     "data": {
      "text/html": [
       "<div>\n",
       "<style scoped>\n",
       "    .dataframe tbody tr th:only-of-type {\n",
       "        vertical-align: middle;\n",
       "    }\n",
       "\n",
       "    .dataframe tbody tr th {\n",
       "        vertical-align: top;\n",
       "    }\n",
       "\n",
       "    .dataframe thead th {\n",
       "        text-align: right;\n",
       "    }\n",
       "</style>\n",
       "<table border=\"1\" class=\"dataframe\">\n",
       "  <thead>\n",
       "    <tr style=\"text-align: right;\">\n",
       "      <th></th>\n",
       "      <th>iwa_eff_val</th>\n",
       "      <th>iwa_eff_sd</th>\n",
       "      <th>iwa_eff_num</th>\n",
       "      <th>iwa_eff_date</th>\n",
       "      <th>hp_eff_fuel</th>\n",
       "      <th>iwa_eff_val.1</th>\n",
       "      <th>iwa_eff_sd.1</th>\n",
       "      <th>iwa_eff_num.1</th>\n",
       "      <th>iwa_eff_date.1</th>\n",
       "      <th>hp_eff_fuel.1</th>\n",
       "    </tr>\n",
       "  </thead>\n",
       "  <tbody>\n",
       "    <tr>\n",
       "      <th>0</th>\n",
       "      <td>46.8</td>\n",
       "      <td>46.8 - 46.8</td>\n",
       "      <td>1</td>\n",
       "      <td>2015.0</td>\n",
       "      <td>Pellets</td>\n",
       "      <td>46.8</td>\n",
       "      <td>46.8 - 46.8</td>\n",
       "      <td>1</td>\n",
       "      <td>2015.0</td>\n",
       "      <td>Pellets</td>\n",
       "    </tr>\n",
       "    <tr>\n",
       "      <th>1</th>\n",
       "      <td>38.9</td>\n",
       "      <td>38.4 - 39.4</td>\n",
       "      <td>2</td>\n",
       "      <td>2012.0</td>\n",
       "      <td>Wood</td>\n",
       "      <td>38.9</td>\n",
       "      <td>38.4 - 39.4</td>\n",
       "      <td>2</td>\n",
       "      <td>2012.0</td>\n",
       "      <td>Wood</td>\n",
       "    </tr>\n",
       "    <tr>\n",
       "      <th>2</th>\n",
       "      <td>35.6</td>\n",
       "      <td>28.5 - 39.4</td>\n",
       "      <td>5</td>\n",
       "      <td>NaN</td>\n",
       "      <td>Wood</td>\n",
       "      <td>35.6</td>\n",
       "      <td>28.5 - 39.4</td>\n",
       "      <td>5</td>\n",
       "      <td>NaN</td>\n",
       "      <td>Wood</td>\n",
       "    </tr>\n",
       "    <tr>\n",
       "      <th>3</th>\n",
       "      <td>30.8</td>\n",
       "      <td>29.2 - 32.3</td>\n",
       "      <td>2</td>\n",
       "      <td>2012.0</td>\n",
       "      <td>Charcoal</td>\n",
       "      <td>30.8</td>\n",
       "      <td>29.2 - 32.3</td>\n",
       "      <td>2</td>\n",
       "      <td>2012.0</td>\n",
       "      <td>Charcoal</td>\n",
       "    </tr>\n",
       "    <tr>\n",
       "      <th>4</th>\n",
       "      <td>14.1</td>\n",
       "      <td>13.7 - 14.9</td>\n",
       "      <td>3</td>\n",
       "      <td>2012.0</td>\n",
       "      <td>Wood</td>\n",
       "      <td>14.1</td>\n",
       "      <td>13.7 - 14.9</td>\n",
       "      <td>3</td>\n",
       "      <td>2012.0</td>\n",
       "      <td>Wood</td>\n",
       "    </tr>\n",
       "    <tr>\n",
       "      <th>...</th>\n",
       "      <td>...</td>\n",
       "      <td>...</td>\n",
       "      <td>...</td>\n",
       "      <td>...</td>\n",
       "      <td>...</td>\n",
       "      <td>...</td>\n",
       "      <td>...</td>\n",
       "      <td>...</td>\n",
       "      <td>...</td>\n",
       "      <td>...</td>\n",
       "    </tr>\n",
       "    <tr>\n",
       "      <th>469</th>\n",
       "      <td>NaN</td>\n",
       "      <td>NaN</td>\n",
       "      <td>0</td>\n",
       "      <td>NaN</td>\n",
       "      <td>NaN</td>\n",
       "      <td>NaN</td>\n",
       "      <td>NaN</td>\n",
       "      <td>0</td>\n",
       "      <td>NaN</td>\n",
       "      <td>NaN</td>\n",
       "    </tr>\n",
       "    <tr>\n",
       "      <th>470</th>\n",
       "      <td>NaN</td>\n",
       "      <td>NaN</td>\n",
       "      <td>0</td>\n",
       "      <td>NaN</td>\n",
       "      <td>NaN</td>\n",
       "      <td>NaN</td>\n",
       "      <td>NaN</td>\n",
       "      <td>0</td>\n",
       "      <td>NaN</td>\n",
       "      <td>NaN</td>\n",
       "    </tr>\n",
       "    <tr>\n",
       "      <th>471</th>\n",
       "      <td>NaN</td>\n",
       "      <td>NaN</td>\n",
       "      <td>0</td>\n",
       "      <td>NaN</td>\n",
       "      <td>NaN</td>\n",
       "      <td>NaN</td>\n",
       "      <td>NaN</td>\n",
       "      <td>0</td>\n",
       "      <td>NaN</td>\n",
       "      <td>NaN</td>\n",
       "    </tr>\n",
       "    <tr>\n",
       "      <th>472</th>\n",
       "      <td>NaN</td>\n",
       "      <td>NaN</td>\n",
       "      <td>0</td>\n",
       "      <td>NaN</td>\n",
       "      <td>NaN</td>\n",
       "      <td>NaN</td>\n",
       "      <td>NaN</td>\n",
       "      <td>0</td>\n",
       "      <td>NaN</td>\n",
       "      <td>NaN</td>\n",
       "    </tr>\n",
       "    <tr>\n",
       "      <th>473</th>\n",
       "      <td>NaN</td>\n",
       "      <td>NaN</td>\n",
       "      <td>0</td>\n",
       "      <td>NaN</td>\n",
       "      <td>NaN</td>\n",
       "      <td>NaN</td>\n",
       "      <td>NaN</td>\n",
       "      <td>0</td>\n",
       "      <td>NaN</td>\n",
       "      <td>NaN</td>\n",
       "    </tr>\n",
       "  </tbody>\n",
       "</table>\n",
       "<p>474 rows × 10 columns</p>\n",
       "</div>"
      ],
      "text/plain": [
       "     iwa_eff_val   iwa_eff_sd  iwa_eff_num  iwa_eff_date hp_eff_fuel  \\\n",
       "0           46.8  46.8 - 46.8            1        2015.0     Pellets   \n",
       "1           38.9  38.4 - 39.4            2        2012.0        Wood   \n",
       "2           35.6  28.5 - 39.4            5           NaN        Wood   \n",
       "3           30.8  29.2 - 32.3            2        2012.0    Charcoal   \n",
       "4           14.1  13.7 - 14.9            3        2012.0        Wood   \n",
       "..           ...          ...          ...           ...         ...   \n",
       "469          NaN          NaN            0           NaN         NaN   \n",
       "470          NaN          NaN            0           NaN         NaN   \n",
       "471          NaN          NaN            0           NaN         NaN   \n",
       "472          NaN          NaN            0           NaN         NaN   \n",
       "473          NaN          NaN            0           NaN         NaN   \n",
       "\n",
       "     iwa_eff_val.1 iwa_eff_sd.1  iwa_eff_num.1  iwa_eff_date.1 hp_eff_fuel.1  \n",
       "0             46.8  46.8 - 46.8              1          2015.0       Pellets  \n",
       "1             38.9  38.4 - 39.4              2          2012.0          Wood  \n",
       "2             35.6  28.5 - 39.4              5             NaN          Wood  \n",
       "3             30.8  29.2 - 32.3              2          2012.0      Charcoal  \n",
       "4             14.1  13.7 - 14.9              3          2012.0          Wood  \n",
       "..             ...          ...            ...             ...           ...  \n",
       "469            NaN          NaN              0             NaN           NaN  \n",
       "470            NaN          NaN              0             NaN           NaN  \n",
       "471            NaN          NaN              0             NaN           NaN  \n",
       "472            NaN          NaN              0             NaN           NaN  \n",
       "473            NaN          NaN              0             NaN           NaN  \n",
       "\n",
       "[474 rows x 10 columns]"
      ]
     },
     "execution_count": 16,
     "metadata": {},
     "output_type": "execute_result"
    }
   ],
   "source": [
    "stoves[['iwa_eff_val', 'iwa_eff_sd', 'iwa_eff_num', 'iwa_eff_date',\n",
    "       'hp_eff_fuel','iwa_eff_val.1', 'iwa_eff_sd.1', 'iwa_eff_num.1', 'iwa_eff_date.1',\n",
    "       'hp_eff_fuel.1']]"
   ]
  },
  {
   "cell_type": "code",
   "execution_count": null,
   "id": "cf54af63-fa33-4412-bb9e-65046ddb8fcf",
   "metadata": {},
   "outputs": [],
   "source": [
    "stoves[['iwa_eff_val', 'iwa_eff_sd', 'iwa_eff_num', 'iwa_eff_date',\n",
    "       'hp_eff_fuel','iwa_eff_val.1', 'iwa_eff_sd.1', 'iwa_eff_num.1', 'iwa_eff_date.1',\n",
    "       'hp_eff_fuel.1']]"
   ]
  },
  {
   "cell_type": "code",
   "execution_count": 29,
   "id": "e1efb7c6-bc67-449c-986e-3f41a2d5be6b",
   "metadata": {},
   "outputs": [
    {
     "data": {
      "text/plain": [
       "True"
      ]
     },
     "execution_count": 29,
     "metadata": {},
     "output_type": "execute_result"
    }
   ],
   "source": [
    "stoves['hp_eff_fuel'].equals(stoves['hp_eff_fuel.1'])"
   ]
  },
  {
   "cell_type": "code",
   "execution_count": 22,
   "id": "f4d4607c-c5f2-4411-9ea7-39dd6f72e395",
   "metadata": {},
   "outputs": [
    {
     "data": {
      "text/plain": [
       "0      46.8\n",
       "1      38.9\n",
       "2      35.6\n",
       "3      30.8\n",
       "4      14.1\n",
       "       ... \n",
       "469     NaN\n",
       "470     NaN\n",
       "471     NaN\n",
       "472     NaN\n",
       "473     NaN\n",
       "Name: iwa_eff_val, Length: 474, dtype: float64"
      ]
     },
     "execution_count": 22,
     "metadata": {},
     "output_type": "execute_result"
    }
   ],
   "source": [
    "stoves['iwa_eff_val']"
   ]
  },
  {
   "cell_type": "code",
   "execution_count": 25,
   "id": "f02cd397-cde9-4631-9a21-c9d86220e51f",
   "metadata": {},
   "outputs": [
    {
     "data": {
      "text/html": [
       "<div>\n",
       "<style scoped>\n",
       "    .dataframe tbody tr th:only-of-type {\n",
       "        vertical-align: middle;\n",
       "    }\n",
       "\n",
       "    .dataframe tbody tr th {\n",
       "        vertical-align: top;\n",
       "    }\n",
       "\n",
       "    .dataframe thead th {\n",
       "        text-align: right;\n",
       "    }\n",
       "</style>\n",
       "<table border=\"1\" class=\"dataframe\">\n",
       "  <thead>\n",
       "    <tr style=\"text-align: right;\">\n",
       "      <th></th>\n",
       "      <th>iwa_eff_val</th>\n",
       "    </tr>\n",
       "  </thead>\n",
       "  <tbody>\n",
       "    <tr>\n",
       "      <th>0</th>\n",
       "      <td>46.8</td>\n",
       "    </tr>\n",
       "    <tr>\n",
       "      <th>1</th>\n",
       "      <td>38.9</td>\n",
       "    </tr>\n",
       "    <tr>\n",
       "      <th>2</th>\n",
       "      <td>35.6</td>\n",
       "    </tr>\n",
       "    <tr>\n",
       "      <th>3</th>\n",
       "      <td>30.8</td>\n",
       "    </tr>\n",
       "    <tr>\n",
       "      <th>4</th>\n",
       "      <td>14.1</td>\n",
       "    </tr>\n",
       "    <tr>\n",
       "      <th>...</th>\n",
       "      <td>...</td>\n",
       "    </tr>\n",
       "    <tr>\n",
       "      <th>469</th>\n",
       "      <td>NaN</td>\n",
       "    </tr>\n",
       "    <tr>\n",
       "      <th>470</th>\n",
       "      <td>NaN</td>\n",
       "    </tr>\n",
       "    <tr>\n",
       "      <th>471</th>\n",
       "      <td>NaN</td>\n",
       "    </tr>\n",
       "    <tr>\n",
       "      <th>472</th>\n",
       "      <td>NaN</td>\n",
       "    </tr>\n",
       "    <tr>\n",
       "      <th>473</th>\n",
       "      <td>NaN</td>\n",
       "    </tr>\n",
       "  </tbody>\n",
       "</table>\n",
       "<p>474 rows × 1 columns</p>\n",
       "</div>"
      ],
      "text/plain": [
       "     iwa_eff_val\n",
       "0           46.8\n",
       "1           38.9\n",
       "2           35.6\n",
       "3           30.8\n",
       "4           14.1\n",
       "..           ...\n",
       "469          NaN\n",
       "470          NaN\n",
       "471          NaN\n",
       "472          NaN\n",
       "473          NaN\n",
       "\n",
       "[474 rows x 1 columns]"
      ]
     },
     "execution_count": 25,
     "metadata": {},
     "output_type": "execute_result"
    }
   ],
   "source": [
    "stoves[['iwa_eff_val']]"
   ]
  },
  {
   "cell_type": "code",
   "execution_count": null,
   "id": "e2097e30-62bf-4392-b38f-61a251016948",
   "metadata": {},
   "outputs": [],
   "source": []
  }
 ],
 "metadata": {
  "kernelspec": {
   "display_name": "Python 3",
   "language": "python",
   "name": "python3"
  },
  "language_info": {
   "codemirror_mode": {
    "name": "ipython",
    "version": 3
   },
   "file_extension": ".py",
   "mimetype": "text/x-python",
   "name": "python",
   "nbconvert_exporter": "python",
   "pygments_lexer": "ipython3",
   "version": "3.7.10"
  }
 },
 "nbformat": 4,
 "nbformat_minor": 5
}
